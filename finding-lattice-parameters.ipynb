{
 "cells": [
  {
   "cell_type": "code",
   "execution_count": 1,
   "id": "d20d76fe",
   "metadata": {},
   "outputs": [],
   "source": [
    "import pandas as pd\n",
    "import matplotlib.pyplot as plt\n",
    "import scipy.stats as stats\n",
    "import numpy as np\n",
    "import sympy"
   ]
  },
  {
   "cell_type": "code",
   "execution_count": 2,
   "id": "6e80e7d6",
   "metadata": {},
   "outputs": [],
   "source": [
    "data=pd.read_excel(\"xray-data.xlsx\")"
   ]
  },
  {
   "cell_type": "code",
   "execution_count": 3,
   "id": "1a035a86",
   "metadata": {},
   "outputs": [
    {
     "data": {
      "text/html": [
       "<div>\n",
       "<style scoped>\n",
       "    .dataframe tbody tr th:only-of-type {\n",
       "        vertical-align: middle;\n",
       "    }\n",
       "\n",
       "    .dataframe tbody tr th {\n",
       "        vertical-align: top;\n",
       "    }\n",
       "\n",
       "    .dataframe thead th {\n",
       "        text-align: right;\n",
       "    }\n",
       "</style>\n",
       "<table border=\"1\" class=\"dataframe\">\n",
       "  <thead>\n",
       "    <tr style=\"text-align: right;\">\n",
       "      <th></th>\n",
       "      <th>Unnamed: 0</th>\n",
       "      <th>h</th>\n",
       "      <th>k</th>\n",
       "      <th>l</th>\n",
       "      <th>2Theta</th>\n",
       "    </tr>\n",
       "  </thead>\n",
       "  <tbody>\n",
       "    <tr>\n",
       "      <th>0</th>\n",
       "      <td>NaN</td>\n",
       "      <td>0.0</td>\n",
       "      <td>1.0</td>\n",
       "      <td>2.0</td>\n",
       "      <td>21.375</td>\n",
       "    </tr>\n",
       "    <tr>\n",
       "      <th>1</th>\n",
       "      <td>NaN</td>\n",
       "      <td>0.0</td>\n",
       "      <td>2.0</td>\n",
       "      <td>4.0</td>\n",
       "      <td>43.333</td>\n",
       "    </tr>\n",
       "    <tr>\n",
       "      <th>2</th>\n",
       "      <td>NaN</td>\n",
       "      <td>0.0</td>\n",
       "      <td>3.0</td>\n",
       "      <td>6.0</td>\n",
       "      <td>67.180</td>\n",
       "    </tr>\n",
       "    <tr>\n",
       "      <th>3</th>\n",
       "      <td>NaN</td>\n",
       "      <td>0.0</td>\n",
       "      <td>4.0</td>\n",
       "      <td>8.0</td>\n",
       "      <td>94.941</td>\n",
       "    </tr>\n",
       "    <tr>\n",
       "      <th>4</th>\n",
       "      <td>NaN</td>\n",
       "      <td>0.0</td>\n",
       "      <td>5.0</td>\n",
       "      <td>10.0</td>\n",
       "      <td>134.080</td>\n",
       "    </tr>\n",
       "  </tbody>\n",
       "</table>\n",
       "</div>"
      ],
      "text/plain": [
       "   Unnamed: 0    h    k     l   2Theta\n",
       "0         NaN  0.0  1.0   2.0   21.375\n",
       "1         NaN  0.0  2.0   4.0   43.333\n",
       "2         NaN  0.0  3.0   6.0   67.180\n",
       "3         NaN  0.0  4.0   8.0   94.941\n",
       "4         NaN  0.0  5.0  10.0  134.080"
      ]
     },
     "execution_count": 3,
     "metadata": {},
     "output_type": "execute_result"
    }
   ],
   "source": [
    "data.head()"
   ]
  },
  {
   "cell_type": "code",
   "execution_count": 4,
   "id": "d5c88483",
   "metadata": {},
   "outputs": [],
   "source": [
    "wavelength=1.54056  # k alpha 1"
   ]
  },
  {
   "cell_type": "code",
   "execution_count": 5,
   "id": "dcf208dd",
   "metadata": {},
   "outputs": [],
   "source": [
    "data[\"theta_rad\"]=np.deg2rad(data[\"2Theta\"]/2)"
   ]
  },
  {
   "cell_type": "code",
   "execution_count": 18,
   "id": "9e76b49e",
   "metadata": {},
   "outputs": [],
   "source": [
    "df=data[19:]"
   ]
  },
  {
   "cell_type": "code",
   "execution_count": 19,
   "id": "6d88044a",
   "metadata": {},
   "outputs": [
    {
     "data": {
      "text/html": [
       "<div>\n",
       "<style scoped>\n",
       "    .dataframe tbody tr th:only-of-type {\n",
       "        vertical-align: middle;\n",
       "    }\n",
       "\n",
       "    .dataframe tbody tr th {\n",
       "        vertical-align: top;\n",
       "    }\n",
       "\n",
       "    .dataframe thead th {\n",
       "        text-align: right;\n",
       "    }\n",
       "</style>\n",
       "<table border=\"1\" class=\"dataframe\">\n",
       "  <thead>\n",
       "    <tr style=\"text-align: right;\">\n",
       "      <th></th>\n",
       "      <th>Unnamed: 0</th>\n",
       "      <th>h</th>\n",
       "      <th>k</th>\n",
       "      <th>l</th>\n",
       "      <th>2Theta</th>\n",
       "      <th>theta_rad</th>\n",
       "    </tr>\n",
       "  </thead>\n",
       "  <tbody>\n",
       "    <tr>\n",
       "      <th>19</th>\n",
       "      <td>NaN</td>\n",
       "      <td>0.0</td>\n",
       "      <td>0.0</td>\n",
       "      <td>1.0</td>\n",
       "      <td>6.9398</td>\n",
       "      <td>0.060561</td>\n",
       "    </tr>\n",
       "    <tr>\n",
       "      <th>20</th>\n",
       "      <td>NaN</td>\n",
       "      <td>0.0</td>\n",
       "      <td>0.0</td>\n",
       "      <td>2.0</td>\n",
       "      <td>13.7980</td>\n",
       "      <td>0.120410</td>\n",
       "    </tr>\n",
       "    <tr>\n",
       "      <th>21</th>\n",
       "      <td>NaN</td>\n",
       "      <td>0.0</td>\n",
       "      <td>0.0</td>\n",
       "      <td>3.0</td>\n",
       "      <td>20.7325</td>\n",
       "      <td>0.180925</td>\n",
       "    </tr>\n",
       "    <tr>\n",
       "      <th>22</th>\n",
       "      <td>NaN</td>\n",
       "      <td>0.0</td>\n",
       "      <td>0.0</td>\n",
       "      <td>4.0</td>\n",
       "      <td>27.7460</td>\n",
       "      <td>0.242130</td>\n",
       "    </tr>\n",
       "    <tr>\n",
       "      <th>23</th>\n",
       "      <td>NaN</td>\n",
       "      <td>0.0</td>\n",
       "      <td>0.0</td>\n",
       "      <td>5.0</td>\n",
       "      <td>34.8700</td>\n",
       "      <td>0.304298</td>\n",
       "    </tr>\n",
       "    <tr>\n",
       "      <th>24</th>\n",
       "      <td>NaN</td>\n",
       "      <td>0.0</td>\n",
       "      <td>0.0</td>\n",
       "      <td>6.0</td>\n",
       "      <td>42.1410</td>\n",
       "      <td>0.367750</td>\n",
       "    </tr>\n",
       "    <tr>\n",
       "      <th>25</th>\n",
       "      <td>NaN</td>\n",
       "      <td>0.0</td>\n",
       "      <td>0.0</td>\n",
       "      <td>7.0</td>\n",
       "      <td>49.5920</td>\n",
       "      <td>0.432772</td>\n",
       "    </tr>\n",
       "    <tr>\n",
       "      <th>26</th>\n",
       "      <td>NaN</td>\n",
       "      <td>0.0</td>\n",
       "      <td>0.0</td>\n",
       "      <td>8.0</td>\n",
       "      <td>57.2650</td>\n",
       "      <td>0.499731</td>\n",
       "    </tr>\n",
       "    <tr>\n",
       "      <th>27</th>\n",
       "      <td>NaN</td>\n",
       "      <td>0.0</td>\n",
       "      <td>0.0</td>\n",
       "      <td>9.0</td>\n",
       "      <td>65.2400</td>\n",
       "      <td>0.569326</td>\n",
       "    </tr>\n",
       "    <tr>\n",
       "      <th>28</th>\n",
       "      <td>NaN</td>\n",
       "      <td>0.0</td>\n",
       "      <td>0.0</td>\n",
       "      <td>10.0</td>\n",
       "      <td>73.5730</td>\n",
       "      <td>0.642046</td>\n",
       "    </tr>\n",
       "    <tr>\n",
       "      <th>29</th>\n",
       "      <td>NaN</td>\n",
       "      <td>0.0</td>\n",
       "      <td>0.0</td>\n",
       "      <td>11.0</td>\n",
       "      <td>82.4080</td>\n",
       "      <td>0.719145</td>\n",
       "    </tr>\n",
       "    <tr>\n",
       "      <th>30</th>\n",
       "      <td>NaN</td>\n",
       "      <td>0.0</td>\n",
       "      <td>0.0</td>\n",
       "      <td>12.0</td>\n",
       "      <td>91.8520</td>\n",
       "      <td>0.801560</td>\n",
       "    </tr>\n",
       "    <tr>\n",
       "      <th>31</th>\n",
       "      <td>NaN</td>\n",
       "      <td>0.0</td>\n",
       "      <td>0.0</td>\n",
       "      <td>13.0</td>\n",
       "      <td>102.2230</td>\n",
       "      <td>0.892064</td>\n",
       "    </tr>\n",
       "    <tr>\n",
       "      <th>32</th>\n",
       "      <td>NaN</td>\n",
       "      <td>0.0</td>\n",
       "      <td>0.0</td>\n",
       "      <td>14.0</td>\n",
       "      <td>113.9030</td>\n",
       "      <td>0.993991</td>\n",
       "    </tr>\n",
       "    <tr>\n",
       "      <th>33</th>\n",
       "      <td>NaN</td>\n",
       "      <td>0.0</td>\n",
       "      <td>0.0</td>\n",
       "      <td>15.0</td>\n",
       "      <td>127.7991</td>\n",
       "      <td>1.115258</td>\n",
       "    </tr>\n",
       "    <tr>\n",
       "      <th>34</th>\n",
       "      <td>NaN</td>\n",
       "      <td>0.0</td>\n",
       "      <td>0.0</td>\n",
       "      <td>16.0</td>\n",
       "      <td>146.6300</td>\n",
       "      <td>1.279588</td>\n",
       "    </tr>\n",
       "  </tbody>\n",
       "</table>\n",
       "</div>"
      ],
      "text/plain": [
       "    Unnamed: 0    h    k     l    2Theta  theta_rad\n",
       "19         NaN  0.0  0.0   1.0    6.9398   0.060561\n",
       "20         NaN  0.0  0.0   2.0   13.7980   0.120410\n",
       "21         NaN  0.0  0.0   3.0   20.7325   0.180925\n",
       "22         NaN  0.0  0.0   4.0   27.7460   0.242130\n",
       "23         NaN  0.0  0.0   5.0   34.8700   0.304298\n",
       "24         NaN  0.0  0.0   6.0   42.1410   0.367750\n",
       "25         NaN  0.0  0.0   7.0   49.5920   0.432772\n",
       "26         NaN  0.0  0.0   8.0   57.2650   0.499731\n",
       "27         NaN  0.0  0.0   9.0   65.2400   0.569326\n",
       "28         NaN  0.0  0.0  10.0   73.5730   0.642046\n",
       "29         NaN  0.0  0.0  11.0   82.4080   0.719145\n",
       "30         NaN  0.0  0.0  12.0   91.8520   0.801560\n",
       "31         NaN  0.0  0.0  13.0  102.2230   0.892064\n",
       "32         NaN  0.0  0.0  14.0  113.9030   0.993991\n",
       "33         NaN  0.0  0.0  15.0  127.7991   1.115258\n",
       "34         NaN  0.0  0.0  16.0  146.6300   1.279588"
      ]
     },
     "execution_count": 19,
     "metadata": {},
     "output_type": "execute_result"
    }
   ],
   "source": [
    "df"
   ]
  },
  {
   "cell_type": "code",
   "execution_count": 20,
   "id": "fb49eaef",
   "metadata": {},
   "outputs": [
    {
     "data": {
      "text/plain": [
       "[nan, 0.0, 0.0, 1.0, 6.9398, 0.060561179714951244]"
      ]
     },
     "execution_count": 20,
     "metadata": {},
     "output_type": "execute_result"
    }
   ],
   "source": [
    "list(data.loc[19])"
   ]
  },
  {
   "cell_type": "markdown",
   "id": "3bf3233e",
   "metadata": {},
   "source": [
    "# Define Sympy variable\n"
   ]
  },
  {
   "cell_type": "code",
   "execution_count": 21,
   "id": "a2069d7e",
   "metadata": {},
   "outputs": [],
   "source": [
    "a,b,c,beta=sympy.symbols(\"a b c beta\")"
   ]
  },
  {
   "cell_type": "markdown",
   "id": "22e70a83",
   "metadata": {},
   "source": [
    "## Monoclinic crystal\n",
    "\n",
    "$$\\frac{1}{d^2}=\\frac{1}{\\sin^2\\beta} \\left(\n",
    "\\left(\\frac{h}{a}\\right)^2 \n",
    "+ \\left(\\frac{k \\sin\\beta}{b}\\right)^2 \n",
    "+ \\left(\\frac{l}{c}\\right)^2 \n",
    "- \\frac{2 h l \\cos\\beta}{a c}\\right)$$\n",
    "\n",
    "### If $h=0,k=0$\n",
    "\n",
    "$$\\frac{1}{d^2}=\\frac{1}{\\sin^2\\beta} \\left(\\frac{l}{c}\\right)^2 $$\n",
    "\n",
    "Brag's Law\n",
    "\n",
    "$$2 d\\sin\\theta = n \\lambda$$\n",
    "\n",
    "combining it gives us (n=1)\n",
    "\n",
    "$$\\frac{1}{(\\lambda/\\sin\\theta)^2}=\\frac{1}{\\sin^2\\beta} \\left(\\frac{l}{c}\\right)^2 $$\n",
    "\n",
    "if we know $\\beta$ we can solve for $c$ for each $(00l)$ series planes\n",
    "\n",
    "## Table\n",
    "| $\\theta$    | $c$ |\n",
    "| -------- | ------- |\n",
    "| $\\theta_1$   | $c_1$    |\n",
    "| $\\theta_2$  | $c_2$    |\n",
    "| $\\theta_3$     | $c_3$    |"
   ]
  },
  {
   "cell_type": "code",
   "execution_count": 22,
   "id": "bd787116",
   "metadata": {},
   "outputs": [],
   "source": [
    "def d_hkl_monoclinic(h,k,l,beta):\n",
    "    term1=(h/a)**2 + (k*sympy.sin(beta)/b)**2 + (l/c)**2 - 2*h*l*sympy.cos(beta)/(a*c)\n",
    "    dsquared=sympy.sin(beta)**2/term1\n",
    "#     ddistance=sympy.sqrt(dsquared)\n",
    "#     print(dsquared)\n",
    "#     print(ddistance)\n",
    "    return dsquared"
   ]
  },
  {
   "cell_type": "code",
   "execution_count": 23,
   "id": "de4b78b7",
   "metadata": {},
   "outputs": [
    {
     "name": "stdout",
     "output_type": "stream",
     "text": [
      "0.232111094171118*c**2\n"
     ]
    }
   ],
   "source": [
    "dsquared=d_hkl_monoclinic(0,0,2,1.3)\n",
    "print(dsquared)"
   ]
  },
  {
   "cell_type": "code",
   "execution_count": 24,
   "id": "fb19223b",
   "metadata": {},
   "outputs": [
    {
     "data": {
      "text/plain": [
       "[-1.66909687906609, 1.66909687906609]"
      ]
     },
     "execution_count": 24,
     "metadata": {},
     "output_type": "execute_result"
    }
   ],
   "source": [
    "theta=1.27958814109964\n",
    "sympy.solve(dsquared*sympy.sin(theta)**2-(wavelength/2)**2,c)"
   ]
  },
  {
   "cell_type": "code",
   "execution_count": 27,
   "id": "857fada4",
   "metadata": {},
   "outputs": [
    {
     "name": "stdout",
     "output_type": "stream",
     "text": [
      "index= 20\n",
      "0.244664937191508*c**2\n",
      "[-12.9643036693796, 12.9643036693796]\n",
      "index= 21\n",
      "0.108739972085115*c**2\n",
      "[-12.9815609987414, 12.9815609987414]\n",
      "index= 22\n",
      "0.0611662342978771*c**2\n",
      "[-12.9896324421742, 12.9896324421742]\n",
      "index= 23\n",
      "0.0391463899506413*c**2\n",
      "[-12.9935156671763, 12.9935156671763]\n",
      "index= 24\n",
      "0.0271849930212787*c**2\n",
      "[-12.9946711067609, 12.9946711067609]\n",
      "index= 25\n",
      "0.0199726479340007*c**2\n",
      "[-12.9961305986203, 12.9961305986203]\n",
      "index= 26\n",
      "0.0152915585744693*c**2\n",
      "[-12.9991567117732, 12.9991567117732]\n",
      "index= 27\n",
      "0.0120822191205683*c**2\n",
      "[-12.9997282810252, 12.9997282810252]\n",
      "index= 28\n",
      "0.00978659748766034*c**2\n",
      "[-13.0024635578595, 13.0024635578595]\n",
      "index= 29\n",
      "0.00808809709723995*c**2\n",
      "[-13.0019980970061, 13.0019980970061]\n",
      "index= 30\n",
      "0.00679624825531968*c**2\n",
      "[-13.0053570482012, 13.0053570482012]\n",
      "index= 31\n",
      "0.00579088608737298*c**2\n",
      "[-13.0044049021109, 13.0044049021109]\n",
      "index= 32\n",
      "0.00499316198350017*c**2\n",
      "[-13.0049399348917, 13.0049399348917]\n",
      "index= 33\n",
      "0.00434959888340459*c**2\n",
      "[-13.0057683905197, 13.0057683905197]\n",
      "index= 34\n",
      "0.00382288964361732*c**2\n",
      "[-13.0056964618546, 13.0056964618546]\n"
     ]
    }
   ],
   "source": [
    "\n",
    "d_vs_theta=[]\n",
    "beta=np.deg2rad(98.4)\n",
    "ranges=range(20,34+1)\n",
    "# ranges=[7,8,9,11]\n",
    "for i in ranges:\n",
    "    print(\"index=\", i)\n",
    "    _,h,k,l,_,theta=list(data.loc[i])\n",
    "    dsquared=d_hkl_monoclinic(h,k,l,beta)\n",
    "    print(dsquared)\n",
    "    solutions=sympy.solve(dsquared*sympy.sin(theta)**2-(wavelength/2)**2,c)\n",
    "    # solutions=sympy.solve(dsquared.subs(c,13.006532295566185)*sympy.sin(theta)**2-(wavelength/2)**2,b)\n",
    "    # solutions=sympy.solve(dsquared.subs(b,5.5152862735714345)*sympy.sin(theta)**2-(wavelength/2)**2,c)\n",
    "    # solutions=sympy.solve(dsquared.subs(b,5.515990401428908)*sympy.sin(theta)**2-(wavelength/2)**2,a)\n",
    "    print(solutions)\n",
    "    d_vs_theta.append([theta,solutions[1]])"
   ]
  },
  {
   "cell_type": "code",
   "execution_count": 28,
   "id": "ed0bd0b6",
   "metadata": {},
   "outputs": [],
   "source": [
    "theta_vs_param=np.array(d_vs_theta,dtype=float)"
   ]
  },
  {
   "cell_type": "code",
   "execution_count": 29,
   "id": "9d7e4a41",
   "metadata": {},
   "outputs": [
    {
     "data": {
      "text/plain": [
       "array([[ 0.12041027, 12.96430367],\n",
       "       [ 0.18092519, 12.981561  ],\n",
       "       [ 0.24212953, 12.98963244],\n",
       "       [ 0.30429816, 12.99351567],\n",
       "       [ 0.3677496 , 12.99467111],\n",
       "       [ 0.43277184, 12.9961306 ],\n",
       "       [ 0.4997314 , 12.99915671],\n",
       "       [ 0.5693264 , 12.99972828],\n",
       "       [ 0.64204555, 13.00246356],\n",
       "       [ 0.71914546, 13.0019981 ],\n",
       "       [ 0.80155991, 13.00535705],\n",
       "       [ 0.89206396, 13.0044049 ],\n",
       "       [ 0.99399119, 13.00493993],\n",
       "       [ 1.11525754, 13.00576839],\n",
       "       [ 1.27958814, 13.00569646]])"
      ]
     },
     "execution_count": 29,
     "metadata": {},
     "output_type": "execute_result"
    }
   ],
   "source": [
    "theta_vs_param\n"
   ]
  },
  {
   "cell_type": "code",
   "execution_count": 31,
   "id": "ed3d42de",
   "metadata": {},
   "outputs": [],
   "source": [
    "df=pd.DataFrame(theta_vs_param, columns=[\"theta_rad\", \"parameter\"],\n",
    "                index=np.arange(1,theta_vs_param.shape[0]+1))"
   ]
  },
  {
   "cell_type": "code",
   "execution_count": 32,
   "id": "7d3a06a7",
   "metadata": {},
   "outputs": [],
   "source": [
    "df[\"theta\"]=np.rad2deg(df[\"theta_rad\"])"
   ]
  },
  {
   "cell_type": "code",
   "execution_count": 23,
   "id": "f8bbf89b",
   "metadata": {},
   "outputs": [],
   "source": [
    "# df.to_latex(\"parameter-a-fitting.tex\", columns=[\"theta\", \"parameter\"])"
   ]
  },
  {
   "cell_type": "code",
   "execution_count": null,
   "id": "4334b68e",
   "metadata": {},
   "outputs": [],
   "source": []
  },
  {
   "cell_type": "code",
   "execution_count": 33,
   "id": "c466f23d",
   "metadata": {},
   "outputs": [],
   "source": [
    "def xfunc(theta):\n",
    "    cos2=np.cos(theta)**2\n",
    "    sin=np.sin(theta)\n",
    "    return cos2/sin + cos2/theta\n",
    "\n",
    "# def xfunc2(theta):\n",
    "#     cos2=np.cos(theta)**2\n",
    "#     return cos2"
   ]
  },
  {
   "cell_type": "code",
   "execution_count": 34,
   "id": "bc1df4d3",
   "metadata": {},
   "outputs": [
    {
     "data": {
      "text/plain": [
       "array([16.39003295, 10.7256628 ,  7.82346921,  6.02912629,  4.78977183,\n",
       "        3.86930105,  3.14924838,  2.56204956,  2.07006388,  1.6464303 ,\n",
       "        1.27708308,  0.94819915,  0.65401343,  0.38908148,  0.15047587])"
      ]
     },
     "execution_count": 34,
     "metadata": {},
     "output_type": "execute_result"
    }
   ],
   "source": [
    "xfunc(theta_vs_param[:,0])"
   ]
  },
  {
   "cell_type": "code",
   "execution_count": 83,
   "id": "6ae45623",
   "metadata": {},
   "outputs": [],
   "source": [
    "# np.cos(d_vs_theta[:,1])"
   ]
  },
  {
   "cell_type": "code",
   "execution_count": 84,
   "id": "2b660e68",
   "metadata": {},
   "outputs": [],
   "source": [
    "# d_vs_theta[:,1]"
   ]
  },
  {
   "cell_type": "code",
   "execution_count": 35,
   "id": "a36551b5",
   "metadata": {},
   "outputs": [
    {
     "data": {
      "text/plain": [
       "Text(0.5, 0, '$\\\\cos^2\\\\theta/\\\\sin\\\\theta + \\\\cos^2\\\\theta/\\\\theta$')"
      ]
     },
     "execution_count": 35,
     "metadata": {},
     "output_type": "execute_result"
    },
    {
     "data": {
      "image/png": "[encoded data removed]",
      "text/plain": [
       "<Figure size 640x480 with 1 Axes>"
      ]
     },
     "metadata": {},
     "output_type": "display_data"
    }
   ],
   "source": [
    "xx, yy = xfunc(theta_vs_param[:,0]), theta_vs_param[:,1]\n",
    "plt.plot(xx,yy,'o')\n",
    "plt.xlabel(r\"$\\cos^2\\theta/\\sin\\theta + \\cos^2\\theta/\\theta$\")"
   ]
  },
  {
   "cell_type": "code",
   "execution_count": 36,
   "id": "b754be1e",
   "metadata": {},
   "outputs": [
    {
     "data": {
      "text/plain": [
       "LinregressResult(slope=-0.0024867604891671115, intercept=13.006979051060194, rvalue=-0.9946154875926801, pvalue=3.468900821561465e-14, stderr=7.186374559640027e-05, intercept_stderr=0.00043347323601911764)"
      ]
     },
     "execution_count": 36,
     "metadata": {},
     "output_type": "execute_result"
    }
   ],
   "source": [
    "xslice=xx[:]\n",
    "yslice=yy[:]\n",
    "regress=stats.linregress(xslice,yslice)\n",
    "regress"
   ]
  },
  {
   "cell_type": "code",
   "execution_count": 41,
   "id": "0981476d",
   "metadata": {},
   "outputs": [
    {
     "data": {
      "image/png": "[encoded data removed]",
      "text/plain": [
       "<Figure size 1000x1000 with 1 Axes>"
      ]
     },
     "metadata": {},
     "output_type": "display_data"
    }
   ],
   "source": [
    "# figsize=(5,3.5)\n",
    "fig,ax=plt.subplots(dpi=200, figsize=(5,5))\n",
    "plt.plot(xx,yy,'o',label=\"(h,h,0) planes\")\n",
    "\n",
    "xvalues=np.linspace(-5,35)\n",
    "plt.plot(xvalues,xvalues*regress[0]+regress[1])\n",
    "plt.xlabel(r\"$\\cos^2\\theta/\\sin\\theta + \\cos^2\\theta/\\theta$\")\n",
    "plt.ylabel(r\"$c$\")\n",
    "plt.legend()\n",
    "plt.xlim([0,np.max(xx)+1])\n",
    "plt.ylim([12.94, 13.02])\n",
    "ax.text(0.1,0.1,r\"$c={:.5f}\\pm {:.5f}$\".format(regress[1],regress[-1]), transform=ax.transAxes)\n",
    "ax.tick_params(direction=\"in\",top=True, right=True)\n",
    "# plt.savefig(\"parameter-a-plne-hh0-plane.pdf\")"
   ]
  },
  {
   "cell_type": "code",
   "execution_count": null,
   "id": "b48c66d1",
   "metadata": {},
   "outputs": [],
   "source": []
  },
  {
   "cell_type": "code",
   "execution_count": null,
   "id": "dcf92471",
   "metadata": {},
   "outputs": [],
   "source": []
  },
  {
   "cell_type": "code",
   "execution_count": null,
   "id": "648be28c",
   "metadata": {},
   "outputs": [],
   "source": []
  },
  {
   "cell_type": "code",
   "execution_count": null,
   "id": "7fcdbce7",
   "metadata": {},
   "outputs": [],
   "source": []
  },
  {
   "cell_type": "code",
   "execution_count": null,
   "id": "12463415",
   "metadata": {},
   "outputs": [],
   "source": []
  },
  {
   "cell_type": "code",
   "execution_count": null,
   "id": "e1690f38",
   "metadata": {},
   "outputs": [],
   "source": []
  },
  {
   "cell_type": "code",
   "execution_count": null,
   "id": "a1eb19bd",
   "metadata": {},
   "outputs": [],
   "source": []
  },
  {
   "cell_type": "code",
   "execution_count": null,
   "id": "963a1162",
   "metadata": {},
   "outputs": [],
   "source": [
    "# c1=0.55\n",
    "# c2=0.45\n",
    "# c1*12.985255718775832+c2*13.006"
   ]
  },
  {
   "cell_type": "code",
   "execution_count": 36,
   "id": "ff078cdc",
   "metadata": {},
   "outputs": [],
   "source": [
    "import numpy as np\n",
    "\n",
    "def least_sq_fit_y(X, Y):\n",
    "    \"\"\"\n",
    "    Calculate a \"MODEL-1\" least squares fit.\n",
    "\n",
    "    The line is fit by MINIMIZING the residuals in Y only.\n",
    "\n",
    "    The equation of the line is:     Y = my * X + by.\n",
    "\n",
    "    Equations are from Bevington & Robinson (1992)\n",
    "    Data Reduction and Error Analysis for the Physical Sciences, 2nd Ed.\"\n",
    "    pp: 104, 108-109, 199.\n",
    "\n",
    "    Data are input and output as follows:\n",
    "\n",
    "    my, by, ry, smy, sby = lsqfity(X,Y)\n",
    "    X     =    x data (vector)\n",
    "    Y     =    y data (vector)\n",
    "    my    =    slope\n",
    "    by    =    y-intercept\n",
    "    ry    =    correlation coefficient\n",
    "    smy   =    standard deviation of the slope\n",
    "    sby   =    standard deviation of the y-intercept\n",
    "\n",
    "    \"\"\"\n",
    "\n",
    "    X, Y = map(np.asanyarray, (X, Y))\n",
    "\n",
    "    # Determine the size of the vector.\n",
    "    n = len(X)\n",
    "\n",
    "    # Calculate the sums.\n",
    "\n",
    "    Sx = np.sum(X)\n",
    "    Sy = np.sum(Y)\n",
    "    Sx2 = np.sum(X ** 2)\n",
    "    Sxy = np.sum(X * Y)\n",
    "    Sy2 = np.sum(Y ** 2)\n",
    "\n",
    "    # Calculate re-used expressions.\n",
    "    num = n * Sxy - Sx * Sy\n",
    "    den = n * Sx2 - Sx ** 2\n",
    "\n",
    "    # Calculate my, by, ry, s2, smy and sby.\n",
    "    my = num / den\n",
    "    by = (Sx2 * Sy - Sx * Sxy) / den\n",
    "    ry = num / (np.sqrt(den) * np.sqrt(n * Sy2 - Sy ** 2))\n",
    "\n",
    "    diff = Y - by - my * X\n",
    "\n",
    "    s2 = np.sum(diff * diff) / (n - 2)\n",
    "    smy = np.sqrt(n * s2 / den)\n",
    "    sby = np.sqrt(Sx2 * s2 / den)\n",
    "\n",
    "    return my, by, ry, smy, sby"
   ]
  },
  {
   "cell_type": "code",
   "execution_count": 38,
   "id": "34bfc819",
   "metadata": {},
   "outputs": [
    {
     "data": {
      "text/plain": [
       "(-0.0040561128218793395,\n",
       " 13.01298335790663,\n",
       " -0.9744070919809854,\n",
       " 0.00025952313764542105,\n",
       " 0.002704551226324598)"
      ]
     },
     "execution_count": 38,
     "metadata": {},
     "output_type": "execute_result"
    }
   ],
   "source": [
    "least_sq_fit_y(xx,yy)"
   ]
  },
  {
   "cell_type": "code",
   "execution_count": null,
   "id": "01c0aa6c",
   "metadata": {},
   "outputs": [],
   "source": []
  }
 ],
 "metadata": {
  "kernelspec": {
   "display_name": "Python 3 (ipykernel)",
   "language": "python",
   "name": "python3"
  },
  "language_info": {
   "codemirror_mode": {
    "name": "ipython",
    "version": 3
   },
   "file_extension": ".py",
   "mimetype": "text/x-python",
   "name": "python",
   "nbconvert_exporter": "python",
   "pygments_lexer": "ipython3",
   "version": "3.11.7"
  }
 },
 "nbformat": 4,
 "nbformat_minor": 5
}
